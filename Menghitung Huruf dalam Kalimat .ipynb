{
 "cells": [
  {
   "cell_type": "code",
   "execution_count": 11,
   "metadata": {},
   "outputs": [
    {
     "name": "stdin",
     "output_type": "stream",
     "text": [
      "Masukkan kalimatnya :  ThiS is String with Upper and lower case Letters\n"
     ]
    },
    {
     "name": "stdout",
     "output_type": "stream",
     "text": [
      "    8\n",
      "a   2\n",
      "c   1\n",
      "d   1\n",
      "e   5\n",
      "g   1\n",
      "h   2\n",
      "i   4\n",
      "l   2\n",
      "n   2\n",
      "o   1\n",
      "p   2\n",
      "r   4\n",
      "s   5\n",
      "t   5\n",
      "u   1\n",
      "w   2\n"
     ]
    }
   ],
   "source": [
    "x = str(input(\"Masukkan kalimatnya : \"))\n",
    "def count_all(text):\n",
    "    text = text.lower()\n",
    "    counts = {}\n",
    "    for char in text:\n",
    "        if char not in counts:\n",
    "            counts.setdefault(char,1)\n",
    "        else:\n",
    "            counts[char] = counts[char] + 1\n",
    "    counts = sorted(counts.items())\n",
    "    for i in counts:\n",
    "        print(i[0],' ',i[1])\n",
    "\n",
    "count_all(x)"
   ]
  },
  {
   "cell_type": "code",
   "execution_count": null,
   "metadata": {},
   "outputs": [],
   "source": []
  }
 ],
 "metadata": {
  "kernelspec": {
   "display_name": "Python 3",
   "language": "python",
   "name": "python3"
  },
  "language_info": {
   "codemirror_mode": {
    "name": "ipython",
    "version": 3
   },
   "file_extension": ".py",
   "mimetype": "text/x-python",
   "name": "python",
   "nbconvert_exporter": "python",
   "pygments_lexer": "ipython3",
   "version": "3.8.3"
  }
 },
 "nbformat": 4,
 "nbformat_minor": 4
}
