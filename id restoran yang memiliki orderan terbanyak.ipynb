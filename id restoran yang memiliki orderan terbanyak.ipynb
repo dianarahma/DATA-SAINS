{
 "cells": [
  {
   "cell_type": "markdown",
   "metadata": {},
   "source": [
    "IMPORT PANDAS"
   ]
  },
  {
   "cell_type": "code",
   "execution_count": 1,
   "metadata": {},
   "outputs": [],
   "source": [
    "import pandas as pd\n",
    "import numpy as np"
   ]
  },
  {
   "cell_type": "markdown",
   "metadata": {},
   "source": [
    "GET DATA"
   ]
  },
  {
   "cell_type": "code",
   "execution_count": 2,
   "metadata": {},
   "outputs": [],
   "source": [
    "Data_Gojek = pd.read_csv('food_delivery_datasets.csv')"
   ]
  },
  {
   "cell_type": "markdown",
   "metadata": {},
   "source": [
    "MEMUNCULKAN 5 DATA PERTAMA"
   ]
  },
  {
   "cell_type": "code",
   "execution_count": 3,
   "metadata": {},
   "outputs": [
    {
     "data": {
      "text/html": [
       "<div>\n",
       "<style scoped>\n",
       "    .dataframe tbody tr th:only-of-type {\n",
       "        vertical-align: middle;\n",
       "    }\n",
       "\n",
       "    .dataframe tbody tr th {\n",
       "        vertical-align: top;\n",
       "    }\n",
       "\n",
       "    .dataframe thead th {\n",
       "        text-align: right;\n",
       "    }\n",
       "</style>\n",
       "<table border=\"1\" class=\"dataframe\">\n",
       "  <thead>\n",
       "    <tr style=\"text-align: right;\">\n",
       "      <th></th>\n",
       "      <th>order_id</th>\n",
       "      <th>voucher_amount</th>\n",
       "      <th>date_time</th>\n",
       "      <th>eta_seconds</th>\n",
       "      <th>food_price</th>\n",
       "      <th>cust_id</th>\n",
       "      <th>rating</th>\n",
       "      <th>delivery_fee</th>\n",
       "      <th>resto_id</th>\n",
       "      <th>status</th>\n",
       "      <th>random_id</th>\n",
       "    </tr>\n",
       "  </thead>\n",
       "  <tbody>\n",
       "    <tr>\n",
       "      <th>0</th>\n",
       "      <td>FOOD-10455</td>\n",
       "      <td>0</td>\n",
       "      <td>2018-08-12T20:35:08.001006</td>\n",
       "      <td>1800</td>\n",
       "      <td>18900</td>\n",
       "      <td>1089034</td>\n",
       "      <td>5.0</td>\n",
       "      <td>4000</td>\n",
       "      <td>742638033</td>\n",
       "      <td>Completed</td>\n",
       "      <td>0.511149</td>\n",
       "    </tr>\n",
       "    <tr>\n",
       "      <th>1</th>\n",
       "      <td>FOOD-10985</td>\n",
       "      <td>0</td>\n",
       "      <td>2018-09-23T17:44:12.243273</td>\n",
       "      <td>2173</td>\n",
       "      <td>149000</td>\n",
       "      <td>180146</td>\n",
       "      <td>5.0</td>\n",
       "      <td>11000</td>\n",
       "      <td>742767245</td>\n",
       "      <td>Completed</td>\n",
       "      <td>0.832936</td>\n",
       "    </tr>\n",
       "    <tr>\n",
       "      <th>2</th>\n",
       "      <td>FOOD-10911</td>\n",
       "      <td>0</td>\n",
       "      <td>2018-09-19T18:08:09.387991</td>\n",
       "      <td>1418</td>\n",
       "      <td>43800</td>\n",
       "      <td>366528</td>\n",
       "      <td>NaN</td>\n",
       "      <td>9000</td>\n",
       "      <td>742618303</td>\n",
       "      <td>Completed</td>\n",
       "      <td>0.828026</td>\n",
       "    </tr>\n",
       "    <tr>\n",
       "      <th>3</th>\n",
       "      <td>FOOD-10932</td>\n",
       "      <td>0</td>\n",
       "      <td>2018-09-21T01:24:35.272499</td>\n",
       "      <td>1903</td>\n",
       "      <td>39900</td>\n",
       "      <td>511038</td>\n",
       "      <td>5.0</td>\n",
       "      <td>14000</td>\n",
       "      <td>742541172</td>\n",
       "      <td>Completed</td>\n",
       "      <td>0.239377</td>\n",
       "    </tr>\n",
       "    <tr>\n",
       "      <th>4</th>\n",
       "      <td>FOOD-10961</td>\n",
       "      <td>0</td>\n",
       "      <td>2018-09-22T17:57:45.523161</td>\n",
       "      <td>1716</td>\n",
       "      <td>77700</td>\n",
       "      <td>1220358</td>\n",
       "      <td>NaN</td>\n",
       "      <td>4000</td>\n",
       "      <td>742604875</td>\n",
       "      <td>Completed</td>\n",
       "      <td>0.995587</td>\n",
       "    </tr>\n",
       "  </tbody>\n",
       "</table>\n",
       "</div>"
      ],
      "text/plain": [
       "     order_id  voucher_amount                   date_time  eta_seconds  \\\n",
       "0  FOOD-10455               0  2018-08-12T20:35:08.001006         1800   \n",
       "1  FOOD-10985               0  2018-09-23T17:44:12.243273         2173   \n",
       "2  FOOD-10911               0  2018-09-19T18:08:09.387991         1418   \n",
       "3  FOOD-10932               0  2018-09-21T01:24:35.272499         1903   \n",
       "4  FOOD-10961               0  2018-09-22T17:57:45.523161         1716   \n",
       "\n",
       "   food_price  cust_id  rating  delivery_fee   resto_id     status  random_id  \n",
       "0       18900  1089034     5.0          4000  742638033  Completed   0.511149  \n",
       "1      149000   180146     5.0         11000  742767245  Completed   0.832936  \n",
       "2       43800   366528     NaN          9000  742618303  Completed   0.828026  \n",
       "3       39900   511038     5.0         14000  742541172  Completed   0.239377  \n",
       "4       77700  1220358     NaN          4000  742604875  Completed   0.995587  "
      ]
     },
     "execution_count": 3,
     "metadata": {},
     "output_type": "execute_result"
    }
   ],
   "source": [
    "Data_Gojek.head()"
   ]
  },
  {
   "cell_type": "markdown",
   "metadata": {},
   "source": [
    "MENAMPILKAN KOLOM RESTO_ID"
   ]
  },
  {
   "cell_type": "code",
   "execution_count": 4,
   "metadata": {},
   "outputs": [
    {
     "data": {
      "text/plain": [
       "0    742638033\n",
       "1    742767245\n",
       "2    742618303\n",
       "3    742541172\n",
       "4    742604875\n",
       "Name: resto_id, dtype: int64"
      ]
     },
     "execution_count": 4,
     "metadata": {},
     "output_type": "execute_result"
    }
   ],
   "source": [
    "id_restoran = Data_Gojek[\"resto_id\"]\n",
    "id_restoran.head()"
   ]
  },
  {
   "cell_type": "markdown",
   "metadata": {},
   "source": [
    "MEMBUAT GRUP ID RESTORAN UNTUK MENGETAHUI BERAPA PESANANNYA"
   ]
  },
  {
   "cell_type": "code",
   "execution_count": 5,
   "metadata": {},
   "outputs": [],
   "source": [
    "Group_restoran = Data_Gojek.groupby(\"resto_id\")"
   ]
  },
  {
   "cell_type": "code",
   "execution_count": 6,
   "metadata": {},
   "outputs": [
    {
     "data": {
      "text/plain": [
       "resto_id\n",
       "200000639    1\n",
       "200000964    2\n",
       "200001006    1\n",
       "200001973    1\n",
       "200001979    1\n",
       "            ..\n",
       "742808523    1\n",
       "742809792    1\n",
       "742810086    1\n",
       "742813095    2\n",
       "742814735    1\n",
       "Name: resto_id, Length: 671, dtype: int64"
      ]
     },
     "execution_count": 6,
     "metadata": {},
     "output_type": "execute_result"
    }
   ],
   "source": [
    "Group_restoran[\"resto_id\"].count()"
   ]
  },
  {
   "cell_type": "markdown",
   "metadata": {},
   "source": [
    "sorting data untuk total case dengan resto_id terbanyak (descending)."
   ]
  },
  {
   "cell_type": "code",
   "execution_count": 7,
   "metadata": {},
   "outputs": [
    {
     "data": {
      "text/html": [
       "<div>\n",
       "<style scoped>\n",
       "    .dataframe tbody tr th:only-of-type {\n",
       "        vertical-align: middle;\n",
       "    }\n",
       "\n",
       "    .dataframe tbody tr th {\n",
       "        vertical-align: top;\n",
       "    }\n",
       "\n",
       "    .dataframe thead th {\n",
       "        text-align: right;\n",
       "    }\n",
       "</style>\n",
       "<table border=\"1\" class=\"dataframe\">\n",
       "  <thead>\n",
       "    <tr style=\"text-align: right;\">\n",
       "      <th></th>\n",
       "      <th>resto_id</th>\n",
       "      <th>count</th>\n",
       "    </tr>\n",
       "  </thead>\n",
       "  <tbody>\n",
       "    <tr>\n",
       "      <th>311</th>\n",
       "      <td>742591683</td>\n",
       "      <td>12</td>\n",
       "    </tr>\n",
       "    <tr>\n",
       "      <th>364</th>\n",
       "      <td>742610474</td>\n",
       "      <td>12</td>\n",
       "    </tr>\n",
       "    <tr>\n",
       "      <th>587</th>\n",
       "      <td>742731698</td>\n",
       "      <td>9</td>\n",
       "    </tr>\n",
       "    <tr>\n",
       "      <th>390</th>\n",
       "      <td>742622470</td>\n",
       "      <td>9</td>\n",
       "    </tr>\n",
       "    <tr>\n",
       "      <th>500</th>\n",
       "      <td>742676756</td>\n",
       "      <td>9</td>\n",
       "    </tr>\n",
       "    <tr>\n",
       "      <th>...</th>\n",
       "      <td>...</td>\n",
       "      <td>...</td>\n",
       "    </tr>\n",
       "    <tr>\n",
       "      <th>250</th>\n",
       "      <td>742565366</td>\n",
       "      <td>1</td>\n",
       "    </tr>\n",
       "    <tr>\n",
       "      <th>249</th>\n",
       "      <td>742564676</td>\n",
       "      <td>1</td>\n",
       "    </tr>\n",
       "    <tr>\n",
       "      <th>248</th>\n",
       "      <td>742564675</td>\n",
       "      <td>1</td>\n",
       "    </tr>\n",
       "    <tr>\n",
       "      <th>247</th>\n",
       "      <td>742562594</td>\n",
       "      <td>1</td>\n",
       "    </tr>\n",
       "    <tr>\n",
       "      <th>670</th>\n",
       "      <td>742814735</td>\n",
       "      <td>1</td>\n",
       "    </tr>\n",
       "  </tbody>\n",
       "</table>\n",
       "<p>671 rows × 2 columns</p>\n",
       "</div>"
      ],
      "text/plain": [
       "      resto_id  count\n",
       "311  742591683     12\n",
       "364  742610474     12\n",
       "587  742731698      9\n",
       "390  742622470      9\n",
       "500  742676756      9\n",
       "..         ...    ...\n",
       "250  742565366      1\n",
       "249  742564676      1\n",
       "248  742564675      1\n",
       "247  742562594      1\n",
       "670  742814735      1\n",
       "\n",
       "[671 rows x 2 columns]"
      ]
     },
     "execution_count": 7,
     "metadata": {},
     "output_type": "execute_result"
    }
   ],
   "source": [
    "Group_restoran[\"resto_id\"].count() \\\n",
    "                                        .reset_index(name='count') \\\n",
    "                                        .sort_values(['count'], \\\n",
    "                                                    ascending=False)"
   ]
  },
  {
   "cell_type": "markdown",
   "metadata": {},
   "source": [
    "jadi id_restoran yang memiliki order terbanyak adalah 742591683 dan 742610474 dengan memiliki 12 orderan"
   ]
  }
 ],
 "metadata": {
  "kernelspec": {
   "display_name": "Python 3",
   "language": "python",
   "name": "python3"
  },
  "language_info": {
   "codemirror_mode": {
    "name": "ipython",
    "version": 3
   },
   "file_extension": ".py",
   "mimetype": "text/x-python",
   "name": "python",
   "nbconvert_exporter": "python",
   "pygments_lexer": "ipython3",
   "version": "3.8.3"
  }
 },
 "nbformat": 4,
 "nbformat_minor": 4
}
